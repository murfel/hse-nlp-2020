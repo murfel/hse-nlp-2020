{
 "cells": [
  {
   "cell_type": "code",
   "execution_count": 2,
   "metadata": {
    "collapsed": true,
    "pycharm": {
     "name": "#%%\n"
    }
   },
   "outputs": [
    {
     "data": {
      "text/plain": "10353112"
     },
     "execution_count": 2,
     "metadata": {},
     "output_type": "execute_result"
    }
   ],
   "source": [
    "import requests\n",
    "url = 'https://raw.githubusercontent.com/sergeyfitts/hse_nlp_minor/main/week4/HW1.txt'\n",
    "r = requests.get(url)\n",
    "open('abstracts.txt', 'wb').write(r.content)"
   ]
  },
  {
   "cell_type": "code",
   "execution_count": 3,
   "outputs": [],
   "source": [
    "with open('abstracts.txt', encoding='latin-1') as f:\n",
    "    content = f.read()"
   ],
   "metadata": {
    "collapsed": false,
    "pycharm": {
     "name": "#%%\n"
    }
   }
  },
  {
   "cell_type": "code",
   "execution_count": 4,
   "outputs": [],
   "source": [
    "abstracts = []\n",
    "abstract_tag = 'Abstract: '\n",
    "paper_delimiter = '-------------------'\n",
    "reading_abstract = False\n",
    "for line in content.split('\\n'):\n",
    "    line = line.strip()\n",
    "    if line.startswith(abstract_tag):\n",
    "        abstracts.append(line[len(abstract_tag):].strip() + ' ')\n",
    "        reading_abstract = True\n",
    "    elif line == paper_delimiter:\n",
    "        reading_abstract = False\n",
    "    elif reading_abstract:\n",
    "        abstracts[-1] += line.strip() + ' '"
   ],
   "metadata": {
    "collapsed": false,
    "pycharm": {
     "name": "#%%\n"
    }
   }
  },
  {
   "cell_type": "code",
   "execution_count": 5,
   "outputs": [
    {
     "name": "stdout",
     "output_type": "stream",
     "text": [
      "5990\n",
      "Applying a series of techniques intended to induce, detect and isolate lethal and/or sterile temperature-sensitive mutants, specific to the self-fertilizing hermaphrodite nematode Caenorhabditis elegans, Bergerac strain, 25 such mutants have been found.  Optimal conditions for the application of mutagenic treatment and the detection of such mutations are discussed. \n",
      "The anatomy of the pharynx of Caenorhabditis elegans has been reconstructed from electron micrographs of serial sections.  The pharynx is used for pumping food into the gut, and is composed of 34 muscle cells, 9 marginal cells, 9 epithelial cells, 5 gland cells and 20 neurones.  Three regions of specialization in the cuticle lining of the pharyngeal lumen may aid in the accumulation of food particles.  A basement membrane isolates the pharynx from the rest of the animal, making the pharyngeal nervous system a nearly self-contained unit which is composed primarily of five classes of motor neurones and six classes of interneurones.  Three other classes have also been described, which by their morphology appear to be neurosecretory and motor, motor and interneuronal, and lastly one pair that only innervates three of the marginal cells.  Some classes of neurone have free endings just under the cuticle lining the lumen of the pharynx, suggesting that these are mechano- or proprio-receptive endings.  The connectivity of these neurones has been described at the level of individual synaptic regions, and after combining this information with video taped observations of the pharynx pumping, some interpretations of how these neurones function have been offered. \n"
     ]
    }
   ],
   "source": [
    "print(len(abstracts))\n",
    "print(abstracts[0])\n",
    "print(abstracts[5])"
   ],
   "metadata": {
    "collapsed": false,
    "pycharm": {
     "name": "#%%\n"
    }
   }
  },
  {
   "cell_type": "code",
   "execution_count": 6,
   "outputs": [
    {
     "name": "stderr",
     "output_type": "stream",
     "text": [
      "[nltk_data] Downloading package punkt to /Users/murfel/nltk_data...\n",
      "[nltk_data]   Package punkt is already up-to-date!\n",
      "[nltk_data] Downloading package wordnet to /Users/murfel/nltk_data...\n",
      "[nltk_data]   Package wordnet is already up-to-date!\n",
      "[nltk_data] Downloading package stopwords to\n",
      "[nltk_data]     /Users/murfel/nltk_data...\n",
      "[nltk_data]   Package stopwords is already up-to-date!\n"
     ]
    },
    {
     "data": {
      "text/plain": "True"
     },
     "execution_count": 6,
     "metadata": {},
     "output_type": "execute_result"
    }
   ],
   "source": [
    "import nltk\n",
    "nltk.download('punkt')\n",
    "nltk.download('wordnet')\n",
    "nltk.download('stopwords')"
   ],
   "metadata": {
    "collapsed": false,
    "pycharm": {
     "name": "#%%\n"
    }
   }
  },
  {
   "cell_type": "code",
   "execution_count": 7,
   "outputs": [],
   "source": [
    "from nltk.tokenize import word_tokenize\n",
    "# Tokenize\n",
    "tokenized_abstracts = [word_tokenize(abstract) for abstract in abstracts]\n",
    "tokenized_abstracts = [[token.strip().lower() for token in abstract] for abstract in tokenized_abstracts]\n",
    "# Lematize\n",
    "lematizer = nltk.stem.WordNetLemmatizer()\n",
    "lem_abstracts = [[lematizer.lemmatize(token) for token in abstract] for abstract in tokenized_abstracts]\n",
    "# Drop stop words\n",
    "from nltk.corpus import stopwords\n",
    "stopwords = set(stopwords.words('english'))\n",
    "stopwords_abstracts = [\n",
    "    [word for word in document if word not in stopwords]\n",
    "    for document in lem_abstracts\n",
    "]\n",
    "# Remove punctuation\n",
    "from string import punctuation\n",
    "punctuation_abstracts = [\n",
    "    [word for word in document if word not in punctuation]\n",
    "    for document in stopwords_abstracts\n",
    "]\n",
    "# Remove badwords\n",
    "bad_words = [\"n't\", \"'s\", 'and/or']\n",
    "clean_abstracts = [\n",
    "    [word for word in document if word not in punctuation]\n",
    "    for document in punctuation_abstracts\n",
    "]"
   ],
   "metadata": {
    "collapsed": false,
    "pycharm": {
     "name": "#%%\n"
    }
   }
  },
  {
   "cell_type": "code",
   "execution_count": 8,
   "outputs": [
    {
     "name": "stdout",
     "output_type": "stream",
     "text": [
      "applying series technique intended induce detect isolate lethal and/or sterile temperature-sensitive mutant specific self-fertilizing hermaphrodite nematode caenorhabditis elegans bergerac strain 25 mutant found optimal condition application mutagenic treatment detection mutation discussed "
     ]
    }
   ],
   "source": [
    "for token in clean_abstracts[0]:\n",
    "    print(token, end=' ')"
   ],
   "metadata": {
    "collapsed": false,
    "pycharm": {
     "name": "#%%\n"
    }
   }
  },
  {
   "cell_type": "code",
   "execution_count": 9,
   "outputs": [],
   "source": [
    "#  создаем словарь\n",
    "from gensim import corpora\n",
    "dictionary = corpora.Dictionary(clean_abstracts)"
   ],
   "metadata": {
    "collapsed": false,
    "pycharm": {
     "name": "#%%\n"
    }
   }
  },
  {
   "cell_type": "code",
   "execution_count": 10,
   "outputs": [],
   "source": [
    "# проводим векторизацию\n",
    "# doc-term matrix M\n",
    "corpus = [dictionary.doc2bow(text) for text in clean_abstracts]"
   ],
   "metadata": {
    "collapsed": false,
    "pycharm": {
     "name": "#%%\n"
    }
   }
  },
  {
   "cell_type": "code",
   "execution_count": 11,
   "outputs": [],
   "source": [
    "# tfidf model\n",
    "from gensim import models\n",
    "tfidf_model = models.TfidfModel(corpus)"
   ],
   "metadata": {
    "collapsed": false,
    "pycharm": {
     "name": "#%%\n"
    }
   }
  },
  {
   "cell_type": "code",
   "execution_count": 12,
   "outputs": [],
   "source": [
    "# tfidf\n",
    "tfidf = tfidf_model[corpus]"
   ],
   "metadata": {
    "collapsed": false,
    "pycharm": {
     "name": "#%%\n"
    }
   }
  },
  {
   "cell_type": "markdown",
   "source": [
    "# LSI"
   ],
   "metadata": {
    "collapsed": false
   }
  },
  {
   "cell_type": "code",
   "execution_count": 19,
   "outputs": [],
   "source": [
    "lsi = models.LsiModel(tfidf, id2word=dictionary, num_topics=6)\n",
    "corpus_lsi = lsi[tfidf]"
   ],
   "metadata": {
    "collapsed": false,
    "pycharm": {
     "name": "#%%\n"
    }
   }
  },
  {
   "cell_type": "code",
   "execution_count": 20,
   "outputs": [
    {
     "data": {
      "text/plain": "[(0, '0.213*\"cell\" + 0.163*\"gene\" + 0.124*\"protein\"'),\n (1, '-0.382*\"cell\" + -0.314*\"death\" + -0.182*\"fate\"'),\n (2, '1.000*\"french\" + -0.003*\"tra-1\" + 0.003*\"mhc\"'),\n (3, '0.386*\"death\" + 0.209*\"aging\" + 0.190*\"programmed\"'),\n (4, '-0.328*\"death\" + 0.207*\"life\" + -0.190*\"ced-4\"'),\n (5, '0.252*\"chromosome\" + 0.242*\"x\" + 0.222*\"male\"')]"
     },
     "execution_count": 20,
     "metadata": {},
     "output_type": "execute_result"
    }
   ],
   "source": [
    "lsi.show_topics(num_words=3)\n"
   ],
   "metadata": {
    "collapsed": false,
    "pycharm": {
     "name": "#%%\n"
    }
   }
  },
  {
   "cell_type": "code",
   "execution_count": 16,
   "outputs": [],
   "source": [
    "# Determine the number of topics\n",
    "# datacamp.com/community/tutorials/discovering-hidden-topics-python\n",
    "coherence_values = []\n",
    "model_list = []\n",
    "# Test num topics up to 10, because it takes too much time with higher values.\n",
    "for num_topics in range(1, 12):\n",
    "    # generate LSA model\n",
    "    model = models.LsiModel(corpus, num_topics=num_topics, id2word = dictionary)  # train model\n",
    "    model_list.append(model)\n",
    "    coherencemodel = models.CoherenceModel(model=model, texts=clean_abstracts, dictionary=dictionary, coherence='c_v')\n",
    "    coherence_values.append(coherencemodel.get_coherence())"
   ],
   "metadata": {
    "collapsed": false,
    "pycharm": {
     "name": "#%%\n"
    }
   }
  },
  {
   "cell_type": "code",
   "execution_count": 18,
   "outputs": [
    {
     "data": {
      "text/plain": "<matplotlib.legend.Legend at 0x1367eed50>"
     },
     "execution_count": 18,
     "metadata": {},
     "output_type": "execute_result"
    },
    {
     "data": {
      "text/plain": "<Figure size 432x288 with 1 Axes>",
      "image/png": "[encoded data removed]"
     },
     "metadata": {},
     "output_type": "display_data"
    }
   ],
   "source": [
    "# Plot the coherence score for each num of topics\n",
    "import matplotlib.pyplot as plt\n",
    "x = range(1, 12)\n",
    "plt.plot(x, coherence_values)\n",
    "plt.xlabel(\"Number of Topics\")\n",
    "plt.ylabel(\"Coherence score\")\n",
    "plt.legend(\"coherence_values\", loc='best')"
   ],
   "metadata": {
    "collapsed": false,
    "pycharm": {
     "name": "#%%\n"
    }
   }
  }
 ],
 "metadata": {
  "kernelspec": {
   "name": "pycharm-70cccfb6",
   "language": "python",
   "display_name": "PyCharm (hse-nlp-2020)"
  },
  "language_info": {
   "codemirror_mode": {
    "name": "ipython",
    "version": 2
   },
   "file_extension": ".py",
   "mimetype": "text/x-python",
   "name": "python",
   "nbconvert_exporter": "python",
   "pygments_lexer": "ipython2",
   "version": "2.7.6"
  }
 },
 "nbformat": 4,
 "nbformat_minor": 0
}